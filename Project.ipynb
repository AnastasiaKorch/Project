{
 "cells": [
  {
   "cell_type": "code",
   "execution_count": 1,
   "metadata": {},
   "outputs": [],
   "source": [
    "import numpy as np\n",
    "import pylab\n",
    "import math\n",
    "import matplotlib.pyplot as plt\n",
    "import copy\n",
    "import queue\n",
    "from scipy.optimize import curve_fit\n",
    "from scipy.optimize import least_squares\n",
    "plt.rc('font', family='Verdana')\n",
    "%matplotlib inline"
   ]
  },
  {
   "cell_type": "code",
   "execution_count": 2,
   "metadata": {},
   "outputs": [],
   "source": [
    "#функция удаления нулей и обработки скачков\n",
    "#data - массив данных\n",
    "#k - коэффициент отбора скачков\n",
    "def transform(data, k): \n",
    "    data2 = copy.deepcopy(data)\n",
    "    \n",
    "    \n",
    "    \n",
    "    #массив индексов по каждой точке потребления, отсюда удаляются индексы с нулевым значением потребления\n",
    "    index_n = [[i for i in range(len(data[i][3]))] for i in range(len(data))]\n",
    "    #массив индексов по каждой точке потребления для графика\n",
    "    index = [[i for i in range(len(data[i][3]))] for i in range(len(data))]\n",
    "    \n",
    "    \n",
    "    for i in range(len(data)):\n",
    "        num = []\n",
    "        \n",
    "        #Удаляем нули из данных, считаем их отсуствием данных, а не скачком\n",
    "        for j in range(len(data2[i][3])):\n",
    "            if data2[i][3][j] != 0:\n",
    "                num.append(data2[i][3][j])\n",
    "                index_n[i].remove(j)\n",
    "                \n",
    "        data2[i][3] = num\n",
    "        \n",
    "        #первое значение потребления для i строки\n",
    "        num = [data2[i][3][0]]\n",
    "        #значение индекса 0 \n",
    "        numi = [0]\n",
    "        #\n",
    "        s = 0\n",
    "        \n",
    "        #Проходим по всем месяцам потребления для точки i\n",
    "        for j in range(len(data2[i][3])-1):\n",
    "            \n",
    "            #Если текущее значение/следующее значение < k и текущее значение/следующее значение > 1/k\n",
    "            if data2[i][3][j]/data2[i][3][j+1] < k and data2[i][3][j]/data2[i][3][j+1] > 1/k:\n",
    "                #Если скачков нет и до этого скачка не было, то добавлением значение в num\n",
    "                if s == 0:\n",
    "                    num.append(data2[i][3][j+1])\n",
    "                    numi.append(j+1)\n",
    "                #Если скачок был и это его продолжение, то записываем в num и увеличиваем s\n",
    "                elif s > 0 and s < 6:\n",
    "                    num.append(data2[i][3][j+1])\n",
    "                    numi.append(j+1)\n",
    "                    s += 1\n",
    "                #Если продолжение скачка больше 6, то принимаем значения посе скачка, как правильные, значени до этого отсекаем\n",
    "                else:\n",
    "                    num = num[-6:]\n",
    "                    numi = numi[-6:]\n",
    "                    s = 0\n",
    "            #Если произошёл скачок\n",
    "            else:\n",
    "                #Если произошёл скачок \n",
    "                if s == 0:\n",
    "                    num.append(data2[i][3][j+1])\n",
    "                    numi.append(j+1)\n",
    "                    s = 1\n",
    "                #Если произошёл скачок внутри скачка\n",
    "                else:\n",
    "                    #Если второй скачок произошёл на конце отрезка данных значений\n",
    "                    if j-s > len(data2[i][3]) - 5:\n",
    "                        num = num[:-s]\n",
    "                        numi = numi[:-s]\n",
    "                        break\n",
    "                    #Если произошёл второй скачок и он возвращает данные назад к значениям до первого скачка\n",
    "                    elif data2[i][3][j-s]/data2[i][3][j+1] < k and data2[i][3][j-s]/data2[i][3][j+1] > 1/k:\n",
    "                        #убираем значения в этом скачке и добавляем новое\n",
    "                        num = num[:-s]\n",
    "                        numi = numi[:-s]\n",
    "                        num.append(data2[i][3][j+1])\n",
    "                        numi.append(j+1)\n",
    "                        s = 0\n",
    "                    #Если второй скачок произошёл и он усугубил ситуацию, то удаляем значения до первого скачка и \n",
    "                    #говорим, что второй скачок - это первый\n",
    "                    else:\n",
    "                        num = num[:-s]\n",
    "                        numi = numi[:-s]\n",
    "                        num.append(data2[i][3][j+1])\n",
    "                        numi.append(j+1)\n",
    "                        s = 1\n",
    "        #Обработка конца значения, если один скачок произошёл в конце, то его значения отсекаем\n",
    "        if s <= 3 and len(num) > 5:\n",
    "            data2[i][3] = num[:-s]\n",
    "            index[i] = numi[:-s]\n",
    "        #Если значений без скачков меньше 5, то ошибка - не можем предсказывать\n",
    "        if s <= 3 and len(num) - s <= 5:\n",
    "            data2[i][3] = 'error'\n",
    "            index[i] = 'error'\n",
    "        #Если всё хорошо,то добавляем значения в основной массив точек\n",
    "        else: \n",
    "            data2[i][3] = num\n",
    "            index[i] = numi\n",
    "        if index[i] != 'error':\n",
    "            for j in index_n[i]:\n",
    "                for k in range(len(index[i])):\n",
    "                    if index[i][k] >= j:\n",
    "                        index[i][k] += 1\n",
    "    return data2, index\n",
    "\n",
    "def classification(data): #классификация по типу и региону\n",
    "    d = dict()\n",
    "    for lst in data:\n",
    "        l = (lst[1],lst[2])\n",
    "        if lst[3] != 'error':\n",
    "            if l in d:\n",
    "                d[l].append(lst[0])\n",
    "            else:\n",
    "                d[l] = [lst[0]]\n",
    "    return d\n",
    "\n",
    "def distance(a,b): \n",
    "    return np.sqrt((a[0] - b[0]) ** 2 + (a[1] - b[1]) ** 2)\n",
    "\n",
    "def clustering(x, y, k):\n",
    "    q = queue.PriorityQueue()\n",
    "    sets = [set([i]) for i in range(len(x))]\n",
    "    sets_c = []\n",
    "    nb_sets = len(x)\n",
    "    for i, aa in enumerate(x):\n",
    "        for j in range(i+1, len(x)):\n",
    "            q.put((distance( (x[i],y[i]), (x[j], y[j])), (i,j) ))\n",
    "    dis = 0\n",
    "    while not q.empty() and nb_sets >= k:\n",
    "        e = q.get()\n",
    "        u = e[1][0]\n",
    "        v = e[1][1]\n",
    "        dis = e[0]\n",
    "        set_uv = [s for s in sets if u in s or v in s]\n",
    "\n",
    "        if len(set_uv) > 1 and set_uv[0].isdisjoint(set_uv[1]):\n",
    "            unionset = set_uv[0].union(set_uv[1])\n",
    "            sets_c = copy.copy(sets)\n",
    "            sets.remove(set_uv[0])\n",
    "            sets.remove(set_uv[1])\n",
    "            sets.append(unionset)\n",
    "            nb_sets -= 1\n",
    "    return sets_c\n",
    "\n",
    "def f(x, a, b, c, d): #аппроксимирующая функция\n",
    "    return a*np.sin(b*x)+c*x+d\n",
    "\n",
    "def linear(x, y): #линейная аппроксимирующая функция\n",
    "    n = len(x)\n",
    "    x = np.array(x)\n",
    "    y = np.array(y)\n",
    "    a = (n*np.sum(x*y)-np.sum(x)*np.sum(y))/(n*np.sum(x**2)-(np.sum(x))**2)\n",
    "    b = (np.sum(y)-a*np.sum(x))/n\n",
    "    return a, b\n",
    "\n",
    "def f2(x, a, b): #линейная аппроксимирующая функция\n",
    "    x = np.array(x)\n",
    "    return a*x+b\n",
    "\n",
    "def prediction (id, month): #функция предсказания \n",
    "    #clust_vect - словарь с ключом (тип, регион), содержащий все кластеры этого класса\n",
    "    for i in clust_vect:\n",
    "        for j in range(len(clust_vect[i])):\n",
    "            for k in range(len(clust_vect[i][j])):\n",
    "                if clust_vect[i][j][k] == id:\n",
    "                    #voc - словарь id-номер строки \n",
    "                    v = voc[id]\n",
    "                    #clust_sim - словарь, \n",
    "                    #print(clust_sim[i][j][1])\n",
    "                    return data2[v][3][0] + (month - index[v][0]) * clust_sim[i][j][1]\n",
    "\n",
    "def draw_prediction(id, months): #функция построения графика предсказаний\n",
    "    i = voc[id]\n",
    "    if index[i] != 'error':\n",
    "        try:\n",
    "            a, b = curve_fit(f, index[i], data2[i][3])\n",
    "            plt.scatter(index[i], data2[i][3], color = 'r')\n",
    "            plt.plot(np.array(index[i]), f(np.array(index[i]), a[0], a[1], a[2], a[3]))\n",
    "            plt.ylim = [min(data2[i][3]), max(data2[i][3])]\n",
    "        except Exception:\n",
    "            a, b = linear(index[i], data2[i][3])\n",
    "            plt.scatter(index[i], data2[i][3], color = 'r')\n",
    "            plt.plot(index[i], f4(index[i], a, b))\n",
    "            plt.ylim = [min(data2[i][3]), max(data2[i][3])]\n",
    "        for j in months:\n",
    "            plt.scatter(j, prediction (id, j)) \n",
    "    else:\n",
    "        print('Невозможно предсказать модель')"
   ]
  },
  {
   "cell_type": "code",
   "execution_count": 3,
   "metadata": {},
   "outputs": [],
   "source": [
    "#считываение данных\n",
    "fin = open(r'Данные.csv', 'r')\n",
    "#Массив точек  информацией по точке (id, тип, регион, показания за 28 периодов)\n",
    "data = []\n",
    "exp = []\n",
    "\n",
    "cnt = 'inf'\n",
    "\n",
    "for item in fin.readlines():\n",
    "    #Первую строку не считываем\n",
    "    if cnt == 'inf':\n",
    "        cnt = 0\n",
    "    else:\n",
    "        data.append([])\n",
    "        num = []\n",
    "        lst = list(item.split(';'))\n",
    "        #Добавляем id\n",
    "        data[cnt].append(int(lst[0]))\n",
    "        #Добавляем тип\n",
    "        data[cnt].append(lst[1].replace(\" \", \"\"))\n",
    "        #Добавляем регион\n",
    "        data[cnt].append(lst[2])\n",
    "        #Добавляем массив значений энергопотребления\n",
    "        for i in lst[3:]:\n",
    "            i = i.replace(\",\", \".\")\n",
    "            i = i.replace(\" \", \"\")\n",
    "            if i == '' or i == '\\n':\n",
    "                num.append(0)\n",
    "            else:\n",
    "                num.append(float(i))\n",
    "        data[cnt].append(num)\n",
    "        cnt += 1\n",
    "fin.close()"
   ]
  },
  {
   "cell_type": "code",
   "execution_count": 4,
   "metadata": {},
   "outputs": [],
   "source": [
    "#транформация матриц, T - коэффициент отбора скачков\n",
    "T = 2\n",
    "data2, index = transform(data, T)"
   ]
  },
  {
   "cell_type": "code",
   "execution_count": 5,
   "metadata": {},
   "outputs": [],
   "source": [
    "#словарь id - номер строки\n",
    "voc = {}\n",
    "for i in range(len(data2)):\n",
    "    voc[data2[i][0]] = i"
   ]
  },
  {
   "cell_type": "code",
   "execution_count": 6,
   "metadata": {},
   "outputs": [],
   "source": [
    "#Словарь индекс - (среднее, коэффициент тенденции), в случае зацикливания аппорксимирующей функции f, используется\n",
    "#линейная регрессия\n",
    "d = {}\n",
    "error = []\n",
    "s = 0\n",
    "s1 = 0\n",
    "for i in range(len(data2)):\n",
    "    if index[i] != 'error':\n",
    "        try:\n",
    "            a, b = curve_fit(f, index[i].astype(np.float64), data2[i][3])\n",
    "            d[data2[i][0]] = (np.mean(np.array(data2[i][3])), a[2])\n",
    "        except:\n",
    "            a, b = linear(index[i], data2[i][3])\n",
    "            d[data2[i][0]] = (np.mean(np.array(data2[i][3])), a)\n",
    "    else:\n",
    "        error.append(data2[i][0])"
   ]
  },
  {
   "cell_type": "code",
   "execution_count": 7,
   "metadata": {},
   "outputs": [
    {
     "name": "stdout",
     "output_type": "stream",
     "text": [
      "{('WPUMP', 'pafos'): [4610728, 5240158, 6403724, 21440403, 23141961, 28240787, 29340678, 91540017, 112050316, 126430489, 128240693, 146948096, 159340373, 174340269], ('WPUMP', 'nicosia'): [4820874, 5430888, 5514455, 7630426, 11740840, 23210210, 28800007, 31430708, 33620131, 33820836, 39800928, 40720190, 41802476, 43325068, 46220465, 47010032, 49420716, 53050736, 61330384, 66430672, 69449015, 73095676, 78530999, 78800869, 83150993, 84607084, 89897558, 91050320, 96240145, 99720698, 107920744, 113100655, 122820208, 123820241, 128620631, 132230468, 134333886, 134510286, 134630468, 147530873, 147900821, 157410076, 158530190, 168900634, 171740179], ('WPUMP', 'lemesos'): [6350266, 11707816, 12638490, 15140613, 26546876, 68520425, 76640946, 84150738, 90130403, 90130717, 91550413, 101940361, 109400892, 115500547, 123540410, 123838204, 136730469, 138940519, 156550950, 159200836], ('WPUMP', 'famagusta'): [8449914, 31781683, 32300070, 64420322, 64585799, 68779007, 89320815, 109500945, 129810824], ('WPUMP', 'larnaka'): [24258637, 31991703, 32510625, 48197508, 76840509, 76957756, 102840993, 113132281, 120220804, 124746239], ('BI-COMM', 'nicosia'): [250846, 563284, 720827, 1030220, 1713049, 1800504, 3113881, 3230689, 3800505, 4029938, 4530872, 4720308], ('BI-COMM', 'larnaka'): [483003, 649792, 1220908, 2405962, 2690727, 3640953], ('BI-COMM', 'pafos'): [1496902, 1810359, 2383154, 2488798], ('BI-COMM', 'famagusta'): [2105275, 2940307, 3741964, 4420121], ('BI-COMM', 'lemesos'): [3211771, 4688203, 4813535]}\n"
     ]
    }
   ],
   "source": [
    "#Словарь (тип, регион) - индексы \n",
    "clas = classification(data2)\n",
    "print(clas)"
   ]
  },
  {
   "cell_type": "code",
   "execution_count": 8,
   "metadata": {},
   "outputs": [
    {
     "name": "stdout",
     "output_type": "stream",
     "text": [
      "{4610728: (0.05171348351652896, 0.009047147930444806), 5240158: (0.05228590214483971, 0.01821881105877245), 6403724: (0.32299037188798857, 0.3030635054755944), 21440403: (0.3710754821293396, 0.0), 23141961: (0.0, 0.005396900413270449), 28240787: (0.4689371245547698, 1.0), 29340678: (0.01585456919405794, 0.0017927391484486635), 91540017: (0.0069407767739699784, 0.0021593655164611433), 112050316: (0.3203674349959804, 0.20350181392168162), 126430489: (0.03854711377079881, 0.03384794905216182), 128240693: (0.8850271939258969, 0.7506021107930155), 146948096: (0.10180196847030487, 0.00524986841391099), 159340373: (0.0404235983400526, 0.011290205792228067), 174340269: (1.0, 0.23853965277379424), 4820874: (0.0, 0.002431313217259364), 5430888: (0.08249557975607649, 0.007477463677774378), 5514455: (0.27724286810375337, 0.10742248011367704), 7630426: (0.7845815498910427, 1.0), 11740840: (0.4458845350692866, 0.21257613245413237), 23210210: (0.026968935179689478, 0.0064962170289289516), 28800007: (0.04278486065750959, 4.7667737153319224e-05), 31430708: (0.44739138768767517, 0.30666908373376056), 33620131: (0.975323837197058, 0.050962017674273), 33820836: (0.03226910227919279, 0.0164285597034495), 39800928: (0.03798459001218874, 0.00745806651239099), 40720190: (0.29774109281345545, 0.16297175857920027), 41802476: (0.0063474036659909765, 0.022720454874793558), 43325068: (0.20701608630077314, 0.003559349870127348), 46220465: (0.22886870978385865, 0.005877098133822291), 47010032: (0.7297520136124093, 0.37915558077274714), 49420716: (0.08091748979339197, 0.04158216761376186), 53050736: (0.09230430008199092, 0.04360330680679194), 61330384: (1.0, 0.13741526131489035), 66430672: (0.5360314421347071, 0.10099352678693002), 69449015: (0.6820544618580331, 0.8825466988097714), 73095676: (0.06628814529521497, 0.03502393771772466), 78530999: (0.012044047589965941, 0.0), 78800869: (0.049883400187253464, 0.009688825731328515), 83150993: (0.1300608829870959, 0.024163910698770216), 84607084: (0.006612092619558478, 0.02052430156209756), 89897558: (0.44150542016586375, 0.4002536350246907), 91050320: (0.12995521261299803, 0.043729317381910666), 96240145: (0.2745039848824538, 0.0068043280790671245), 99720698: (0.6788266987760171, 0.10977081512278619), 107920744: (0.17009404740204276, 0.16814469574746163), 113100655: (0.019826841819387382, 0.062261931525780766), 122820208: (0.1833573837121973, 0.022072907630420757), 123820241: (0.036886536994389194, 0.07020607893089363), 128620631: (0.01576935757824849, 0.0030547111707167848), 132230468: (0.9777792036923417, 0.05283030834007996), 134333886: (0.0251355863002384, 0.01509285328718085), 134510286: (0.33215070617899506, 0.2222186820458241), 134630468: (0.0726545506762303, 0.0055961090352816805), 147530873: (0.08411888159603763, 0.35432906781033474), 147900821: (0.2293884657473386, 0.01038158569501369), 157410076: (0.2137613044113735, 0.029607300584375662), 158530190: (0.03829626574392479, 0.001716874758249376), 168900634: (0.5159832180971216, 0.12824929894567336), 171740179: (0.04137668132694902, 0.1828783753861484), 6350266: (0.03392127865488926, 0.005259381720924247), 11707816: (0.792444083937458, 0.8013745726181504), 12638490: (0.06556608870750277, 0.09375516994172901), 15140613: (1.0, 0.5956369138434955), 26546876: (0.02747358903296657, 0.07673583665741437), 68520425: (0.011056879218065085, 0.008694807999852942), 76640946: (0.1404017220837506, 0.0018038501130493926), 84150738: (0.1539358795829401, 0.10452651375893823), 90130403: (0.22699795752949378, 1.0), 90130717: (0.22699795752949378, 1.0), 91550413: (0.01350017888161751, 0.0004168121909523721), 101940361: (0.13483322919150448, 0.10067657304093673), 109400892: (0.018000468983942534, 0.019839479053693862), 115500547: (0.0, 0.0), 123540410: (0.027165262711015613, 0.025820986746567152), 123838204: (0.005291527649013524, 0.012533547177441592), 136730469: (0.3299999881469939, 0.012515165162405103), 138940519: (0.05809538588152881, 0.06307656339037886), 156550950: (0.1997241904248651, 0.09532355793092037), 159200836: (0.03535010915630895, 0.008614501571662284), 8449914: (0.7187856159842674, 1.0), 31781683: (1.0, 0.517054883602224), 32300070: (0.6384306014399099, 0.2471156380427739), 64420322: (0.04905292907716889, 0.05454083378449794), 64585799: (0.22153799829788182, 0.15219715592652608), 68779007: (0.0, 0.0), 89320815: (0.1977324373624245, 0.2425872286719392), 109500945: (0.0839285338505488, 0.10921739547137527), 129810824: (0.1981333499696449, 0.38692397093414094), 24258637: (0.06823334631874743, 0.0), 31991703: (0.1270915541485852, 0.030692653175098804), 32510625: (0.33059489915700946, 0.06018507965243162), 48197508: (0.08629663593205711, 0.07192962792049425), 76840509: (0.007129580928571784, 0.058610178291271756), 76957756: (0.45051067783097765, 1.0), 102840993: (1.0, 0.2499086606029781), 113132281: (0.49115614222342807, 0.221816090950029), 120220804: (0.5720086541537117, 0.08621508757716655), 124746239: (0.0, 0.007476413184686866), 250846: (0.314299083238423, 0.4420839469522752), 563284: (0.45130663867123577, 1.0), 720827: (1.0, 0.48933358422551093), 1030220: (0.2871017605893569, 0.1343488522187136), 1713049: (0.021130090508568077, 0.05344302663475234), 1800504: (0.0015597343910998401, 0.00047090679687006743), 3113881: (0.0, 0.0), 3230689: (0.02015553250991118, 0.04891178303432015), 3800505: (0.014684543629397565, 0.05224272195916651), 4029938: (0.013398885439984479, 0.216097359406994), 4530872: (0.05521803646501076, 0.09122885895336515), 4720308: (0.06286834338846255, 0.041151230417471076), 483003: (0.0, 0.0), 649792: (1.0, 0.6252265802563565), 1220908: (0.6125469546959911, 0.23388592069977934), 2405962: (0.04322725897299684, 0.05714541848987456), 2690727: (0.12242177795771444, 1.0), 3640953: (0.12544277201358253, 0.03799310277069146), 1496902: (1.0, 1.0), 1810359: (0.0, 0.29894343593407396), 2383154: (0.05698226255483297, 0.1168622786188247), 2488798: (0.02309140054714119, 0.0), 2105275: (0.0, 0.005676263298986258), 2940307: (0.4314222662130392, 1.0), 3741964: (0.003868037928999453, 0.0), 4420121: (1.0, 0.25714216626576464), 3211771: (0.0, 0.0), 4688203: (0.04447762258376685, 0.2474387255070601), 4813535: (1.0, 1.0)}\n"
     ]
    }
   ],
   "source": [
    "# Словарь индекс - (тип, регион) - нормированные (среднее, коэффициент тенденции) \n",
    "d_norm = {}\n",
    "for i in clas:\n",
    "    ar_mean = []\n",
    "    ar_koef = []\n",
    "    for j in clas[i]:\n",
    "        if j not in error:\n",
    "            ar_mean.append(d[j][0])\n",
    "            ar_koef.append(d[j][1])\n",
    "        else:\n",
    "            clas[i].remove(j)\n",
    "    ar_mean = np.array(ar_mean)\n",
    "    ar_koef = np.array(ar_koef)\n",
    "    for j in clas[i]:\n",
    "        if j not in error:\n",
    "            d_norm[j] = ((d[j][0] - np.min(ar_mean))/(np.max(ar_mean)-np.min(ar_mean)), \n",
    "            (d[j][1] - np.min(ar_koef))/(np.max(ar_koef)-np.min(ar_koef)))\n",
    "            #kf = (np.max(ar_mean)-np.min(ar_mean))/(np.max(ar_koef)-np.min(ar_koef))\n",
    "            #d_norm[j] = (d[j][0]/kf, d[j][1])\n",
    "print(d_norm)"
   ]
  },
  {
   "cell_type": "code",
   "execution_count": 9,
   "metadata": {},
   "outputs": [
    {
     "name": "stdout",
     "output_type": "stream",
     "text": [
      "('WPUMP', 'pafos') [[28240787], [128240693], [174340269], [4610728, 5240158, 23141961, 29340678, 91540017, 126430489, 146948096, 159340373], [112050316, 6403724, 21440403]]\n",
      "('WPUMP', 'nicosia') [[47010032], [147530873], [33620131, 61330384, 132230468], [4820874, 5430888, 5514455, 11740840, 23210210, 28800007, 31430708, 33820836, 39800928, 40720190, 41802476, 43325068, 46220465, 49420716, 53050736, 66430672, 73095676, 78530999, 78800869, 83150993, 84607084, 89897558, 91050320, 96240145, 99720698, 107920744, 113100655, 122820208, 123820241, 128620631, 134333886, 134510286, 134630468, 147900821, 157410076, 158530190, 168900634, 171740179], [7630426, 69449015]]\n",
      "('WPUMP', 'lemesos') [[11707816], [15140613], [136730469], [90130403, 90130717], [6350266, 12638490, 26546876, 68520425, 76640946, 84150738, 91550413, 101940361, 109400892, 115500547, 123540410, 123838204, 138940519, 156550950, 159200836]]\n",
      "('WPUMP', 'famagusta') [[8449914], [31781683], [32300070], [129810824], [64420322, 64585799, 68779007, 89320815, 109500945]]\n",
      "('WPUMP', 'larnaka') [[32510625], [76957756], [102840993], [24258637, 31991703, 48197508, 76840509, 124746239], [120220804, 113132281]]\n",
      "('BI-COMM', 'nicosia') [[563284], [720827], [250846, 1030220, 1713049, 1800504, 3113881, 3230689, 3800505, 4029938, 4530872, 4720308]]\n",
      "('BI-COMM', 'larnaka') [[649792], [2690727], [483003, 1220908, 2405962, 3640953]]\n",
      "('BI-COMM', 'pafos') [[1496902], [1810359], [2383154, 2488798]]\n",
      "('BI-COMM', 'famagusta') [[2940307], [4420121], [2105275, 3741964]]\n",
      "('BI-COMM', 'lemesos') [[3211771], [4688203], [4813535]]\n",
      "40\n"
     ]
    },
    {
     "data": {
      "image/png": "[encoded data removed]",
      "text/plain": [
       "<Figure size 432x288 with 1 Axes>"
      ]
     },
     "metadata": {
      "needs_background": "light"
     },
     "output_type": "display_data"
    }
   ],
   "source": [
    "#Словарь (тип, регион) - разбивка на кластеры, nc - количество кластеров в каждой группе \n",
    "clust_vect = {}\n",
    "nc2 = 3\n",
    "pp = 0\n",
    "num_of_clust = 0\n",
    "clr = ['mediumorchid', 'blueviolet', 'navy', 'royalblue', 'darkslategrey', \n",
    "       'limegreen', 'darkgreen', 'yellow', 'darkorange', 'y']\n",
    "for i in clas:\n",
    "    if i[0] == 'WPUMP':\n",
    "        nc1 = 5 #len(clas[i])//5 + 1\n",
    "        ar_mean = []\n",
    "        ar_koef = []\n",
    "        for j in clas[i]:\n",
    "            ar_mean.append(d_norm[j][0])\n",
    "            ar_koef.append(d_norm[j][1])\n",
    "        ar_mean = np.array(ar_mean)\n",
    "        ar_koef = np.array(ar_koef)\n",
    "        cl = clustering(ar_mean, ar_koef, nc1)\n",
    "        ck = []\n",
    "        for j in range(len(cl)):\n",
    "            ck.append([])\n",
    "            for k in cl[j]:\n",
    "                ck[j].append(clas[i][k])\n",
    "                if pp == num_of_clust:\n",
    "                    plt.scatter(d_norm[clas[i][k]][0], d_norm[clas[i][k]][1], c = clr[j])\n",
    "        clust_vect[i] = ck\n",
    "    else:\n",
    "        ar_mean = []\n",
    "        ar_koef = []\n",
    "        for j in clas[i]:\n",
    "            ar_mean.append(d_norm[j][0])\n",
    "            ar_koef.append(d_norm[j][1])\n",
    "        ar_mean = np.array(ar_mean)\n",
    "        ar_koef = np.array(ar_koef)\n",
    "        cl = clustering(ar_mean, ar_koef, nc2)\n",
    "        ck = []\n",
    "        for j in range(len(cl)):\n",
    "            ck.append([])\n",
    "            for k in cl[j]:\n",
    "                ck[j].append(clas[i][k])\n",
    "        clust_vect[i] = ck\n",
    "    pp += 1\n",
    "ccnt = 0\n",
    "for i in clust_vect:\n",
    "    print(i, clust_vect[i])\n",
    "    ccnt+=len(clust_vect[i])\n",
    "print(ccnt)"
   ]
  },
  {
   "cell_type": "code",
   "execution_count": 10,
   "metadata": {},
   "outputs": [
    {
     "name": "stdout",
     "output_type": "stream",
     "text": [
      "90130403 [32010.0, 40066.0, 40066.0, 40066.0, 40066.0, 89766.0, 112155.0, 112158.0, 122156.0, 137192.0, 152545.0, 165241.0, 172500.0, 179081.0, 189278.0, 204278.0, 208990.0, 218845.0, 224643.0, 231162.0, 237162.0, 246162.0, 265665.0, 271961.0, 280993.0, 288993.0, 299617.0]\n",
      "90130717 [32010.0, 40066.0, 40066.0, 40066.0, 40066.0, 89766.0, 112155.0, 112158.0, 122156.0, 137192.0, 152545.0, 165241.0, 172500.0, 179081.0, 189278.0, 204278.0, 208990.0, 218845.0, 224643.0, 231162.0, 237162.0, 246162.0, 265665.0, 271961.0, 280993.0, 288993.0, 299617.0]\n"
     ]
    }
   ],
   "source": [
    "for i in range(len(data2)):\n",
    "    if data2[i][0] == 90130403 or data2[i][0] == 90130717:\n",
    "        print (data2[i][0], data2[i][3])"
   ]
  },
  {
   "cell_type": "code",
   "execution_count": 11,
   "metadata": {},
   "outputs": [
    {
     "name": "stdout",
     "output_type": "stream",
     "text": [
      "{('WPUMP', 'pafos'): [(385766.9259259259, 25324.007936507936), (726386.0370370371, 19009.452991452992), (820504.925925926, 6044.441391941392), (33358.781614219115, 280.1640534117524), (278697.58024691354, 4280.084452584452)], ('WPUMP', 'nicosia'): [(547458.7037037037, 8149.507936507936), (63420.5625, 7615.823839009288), (738346.8225308642, 1727.3513898705417), (129120.71436159844, 1480.9665578571037), (550132.1666666666, 20233.094322344325)], ('WPUMP', 'lemesos'): [(594518.0, 8517.272893772893), (750169.7777777778, 6330.736263736264), (247718.7037037037, 133.44078144078145), (170474.7037037037, 10628.222222222223), (46454.10370370371, 437.6436304436304)], ('WPUMP', 'famagusta'): [(474537.6296296296, 11479.362637362638), (653507.6296296297, 6003.53601953602), (423398.22222222225, 2942.8559218559217), (143184.96296296295, 4528.059218559219), (87381.90992592592, 1407.5554065934066)], ('WPUMP', 'larnaka'): [(122651.66666666667, 1373.41452991453), (165015.42857142858, 22698.476312419974), (359138.6296296296, 5678.376068376068), (26261.291640211643, 773.3973312138188), (193656.38888888888, 3502.494810744811)], ('BI-COMM', 'nicosia'): [(371212.375, 17246.74652173913), (822205.1578947369, 8441.56812703814), (65233.011772486774, 1866.3775519306569)], ('BI-COMM', 'larnaka'): [(113682.04545454546, 3031.3258648503315), (16775.666666666668, 4840.342857142857), (24823.69693732194, 410.42813204921254)], ('BI-COMM', 'pafos'): [(161447.88888888888, 2736.3443223443223), (14190.888888888889, 740.8681318681319), (20086.59259259259, 56.27777777777778)], ('BI-COMM', 'famagusta'): [(142906.04545454544, 12358.557840379915), (324669.25925925927, 3305.7173382173382), (5607.028148148149, 206.64001831501832)], ('BI-COMM', 'lemesos'): [(2366.5185185185187, 24.693528693528695), (5646.777777777777, 463.7924297924298), (76117.29629629629, 1799.2698412698412)]}\n"
     ]
    }
   ],
   "source": [
    "#Словарь (тип, регион) - (среднее, коэффицент в каждом кластере), рассчитывается, как среднее по кластеру\n",
    "clust_sim ={}\n",
    "for i in clust_vect:\n",
    "    l = []\n",
    "    for j in clust_vect[i]:\n",
    "        ar_mean = []\n",
    "        ar_koef = []\n",
    "        for k in j:\n",
    "            ar_mean.append(d[k][0])\n",
    "            ar_koef.append(d[k][1])\n",
    "        ar_mean = np.mean(np.array(ar_mean))\n",
    "        ar_koef = np.mean(np.array(ar_koef))\n",
    "        l.append((ar_mean, ar_koef))\n",
    "    clust_sim[i] = l\n",
    "print(clust_sim)"
   ]
  },
  {
   "cell_type": "code",
   "execution_count": 12,
   "metadata": {},
   "outputs": [
    {
     "data": {
      "image/png": "[encoded data removed]",
      "text/plain": [
       "<Figure size 432x288 with 1 Axes>"
      ]
     },
     "metadata": {
      "needs_background": "light"
     },
     "output_type": "display_data"
    }
   ],
   "source": [
    "id = 174340269\n",
    "month = [27]\n",
    "draw_prediction(id, month)"
   ]
  },
  {
   "cell_type": "code",
   "execution_count": 23,
   "metadata": {},
   "outputs": [
    {
     "name": "stdout",
     "output_type": "stream",
     "text": [
      "('WPUMP', 'pafos') [28240787] 696813.2142857143\n",
      "('WPUMP', 'pafos') [128240693] 1004072.2307692308\n",
      "('WPUMP', 'pafos') [174340269] 910786.9175824176\n",
      "('WPUMP', 'pafos') [4610728, 5240158, 23141961, 29340678, 91540017, 126430489, 146948096, 159340373] 298242.7793232915\n",
      "('WPUMP', 'pafos') [112050316, 6403724, 21440403] 1027441.8406593406\n",
      "('WPUMP', 'nicosia') [47010032] 660931.7142857143\n",
      "('WPUMP', 'nicosia') [147530873] 133185.0052631579\n",
      "('WPUMP', 'nicosia') [33620131, 61330384, 132230468] 2305315.462579514\n",
      "('WPUMP', 'nicosia') [4820874, 5430888, 5514455, 11740840, 23210210, 28800007, 31430708, 33820836, 39800928, 40720190, 41802476, 43325068, 46220465, 49420716, 53050736, 66430672, 73095676, 78530999, 78800869, 83150993, 84607084, 89897558, 91050320, 96240145, 99720698, 107920744, 113100655, 122820208, 123820241, 128620631, 134333886, 134510286, 134630468, 147900821, 157410076, 158530190, 168900634, 171740179] 5679760.059489245\n",
      "('WPUMP', 'nicosia') [7630426, 69449015] 1730911.0934065934\n",
      "('WPUMP', 'lemesos') [11707816] 716003.3681318681\n",
      "('WPUMP', 'lemesos') [15140613] 834097.8791208791\n",
      "('WPUMP', 'lemesos') [136730469] 249839.9010989011\n",
      "('WPUMP', 'lemesos') [90130403, 90130717] 637944.0\n",
      "('WPUMP', 'lemesos') [6350266, 12638490, 26546876, 68520425, 76640946, 84150738, 91550413, 101940361, 109400892, 115500547, 123540410, 123838204, 138940519, 156550950, 159200836] 793476.6703296704\n",
      "('WPUMP', 'famagusta') [8449914] 637229.7912087912\n",
      "('WPUMP', 'famagusta') [31781683] 729302.4725274725\n",
      "('WPUMP', 'famagusta') [32300070] 471857.10989010986\n",
      "('WPUMP', 'famagusta') [129810824] 205992.59890109889\n",
      "('WPUMP', 'famagusta') [64420322, 64585799, 68779007, 89320815, 109500945] 542843.97989011\n",
      "('WPUMP', 'larnaka') [32510625] 121668.19230769231\n",
      "('WPUMP', 'larnaka') [76957756] 345752.1446862996\n",
      "('WPUMP', 'larnaka') [102840993] 440397.1538461539\n",
      "('WPUMP', 'larnaka') [24258637, 31991703, 48197508, 76840509, 124746239] 188020.26907051355\n",
      "('WPUMP', 'larnaka') [120220804, 113132281] 498432.7197802197\n",
      "('BI-COMM', 'nicosia') [563284] 648363.1560869565\n",
      "('BI-COMM', 'nicosia') [720827] 910763.930667801\n",
      "('BI-COMM', 'nicosia') [250846, 1030220, 1713049, 1800504, 3113881, 3230689, 3800505, 4029938, 4530872, 4720308] 900862.7451191496\n",
      "('BI-COMM', 'larnaka') [649792] 165737.79835095897\n",
      "('BI-COMM', 'larnaka') [2690727] 64883.457142857136\n",
      "('BI-COMM', 'larnaka') [483003, 1220908, 2405962, 3640953] 119646.23826131492\n",
      "('BI-COMM', 'pafos') [1496902] 209445.2967032967\n",
      "('BI-COMM', 'pafos') [1810359] 28615.43956043956\n",
      "('BI-COMM', 'pafos') [2383154, 2488798] 35840.0\n",
      "('BI-COMM', 'famagusta') [2940307] 317166.94600949786\n",
      "('BI-COMM', 'famagusta') [4420121] 368240.36813186813\n",
      "('BI-COMM', 'famagusta') [2105275, 3741964] 18802.280952380956\n",
      "('BI-COMM', 'lemesos') [3211771] 2673.7252747252746\n",
      "('BI-COMM', 'lemesos') [4688203] 13615.395604395604\n",
      "('BI-COMM', 'lemesos') [4813535] 102790.28571428571\n"
     ]
    }
   ],
   "source": [
    "for i in clust_vect:\n",
    "    for j in clust_vect[i]:\n",
    "        sum_cluster = 0\n",
    "        for m in range(len(j)):\n",
    "            sum_cluster += prediction(j[m], 27)\n",
    "            #print(j[m])\n",
    "        print (i, j, sum_cluster)"
   ]
  }
 ],
 "metadata": {
  "kernelspec": {
   "display_name": "Python 3",
   "language": "python",
   "name": "python3"
  },
  "language_info": {
   "codemirror_mode": {
    "name": "ipython",
    "version": 3
   },
   "file_extension": ".py",
   "mimetype": "text/x-python",
   "name": "python",
   "nbconvert_exporter": "python",
   "pygments_lexer": "ipython3",
   "version": "3.7.3"
  }
 },
 "nbformat": 4,
 "nbformat_minor": 4
}
